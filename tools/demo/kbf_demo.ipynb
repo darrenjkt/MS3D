{
 "cells": [
  {
   "cell_type": "markdown",
   "id": "53e18f66",
   "metadata": {},
   "source": [
    "# KDE Box Fusion (KBF) Demo"
   ]
  },
  {
   "cell_type": "code",
   "execution_count": 3,
   "id": "1ab864d5",
   "metadata": {},
   "outputs": [
    {
     "data": {
      "text/plain": [
       "array([-17.97      ,   8.29      ,   0.6       ,   4.43393939,\n",
       "         1.81181818,   1.59181818,  -4.87      ,   1.        ,\n",
       "         0.45454545])"
      ]
     },
     "execution_count": 3,
     "metadata": {},
     "output_type": "execute_result"
    }
   ],
   "source": [
    "import sys\n",
    "sys.path.append('/MS3D')\n",
    "import numpy as np\n",
    "from pcdet.utils.box_fusion_utils import kbf\n",
    "\n",
    "# Box format (N,9) (x,y,z,length,width,height,heading,class,score)\n",
    "boxes = np.array([[-17.97, 8.29, 0.60, 4.30, 1.77, 1.56, 1.48, 1, 0.54],\n",
    "                  [-18.15, 7.64, 0.76, 4.40, 1.83, 1.63, -1.67, 1, 0.37],\n",
    "                  [-18.06, 7.83, 0.63, 4.56, 1.81, 1.57, 1.97, 1, 0.49],\n",
    "                  [-18.01, 8.06, 0.74, 4.47, 1.83, 1.61, -4.87, 1, 0.36]])\n",
    "\n",
    "# KDE Box Fusion\n",
    "kbf(boxes, box_weights=boxes[:,-1])"
   ]
  },
  {
   "cell_type": "code",
   "execution_count": 4,
   "id": "4635955d",
   "metadata": {},
   "outputs": [
    {
     "data": {
      "text/plain": [
       "array([-17.97      ,   8.29      ,   0.6       ,   4.43656566,\n",
       "         1.81969697,   1.5889899 ,  -4.87      ,   1.        ,\n",
       "         0.45454545])"
      ]
     },
     "execution_count": 4,
     "metadata": {},
     "output_type": "execute_result"
    }
   ],
   "source": [
    "# You can change the bandwidths for tuning. Higher bw is closer to average value\n",
    "kbf(boxes, box_weights=boxes[:,-1], bw_c=1.0, bw_dim=1.0, bw_ry=0.1, bw_cls=0.5, bw_score=2.0)"
   ]
  },
  {
   "cell_type": "markdown",
   "id": "44e30732",
   "metadata": {},
   "source": [
    "In practice we grab all boxes of every detector and match boxes by building a KDTree of box centroids, then we query points within a certain radius of each other. For a full implementation see our `pcdet.utils.box_fusion_utils.label_fusion` function.\n",
    "\n",
    "If you'd like to scale weights by detectors that you know perform better, you can multiply the box scores by a scalar and use those as box_weights. `box_weights` can be greater than 1."
   ]
  },
  {
   "cell_type": "code",
   "execution_count": 6,
   "id": "39735ff2",
   "metadata": {},
   "outputs": [
    {
     "data": {
      "text/plain": [
       "array([-18.01      ,   8.06      ,   0.63      ,   4.44707071,\n",
       "         1.80454545,   1.57868687,  -4.87      ,   1.        ,\n",
       "         0.43636364])"
      ]
     },
     "execution_count": 6,
     "metadata": {},
     "output_type": "execute_result"
    }
   ],
   "source": [
    "detector_box_weights = [1,0,4,6]\n",
    "kbf(boxes, box_weights=boxes[:,-1]*detector_box_weights)"
   ]
  }
 ],
 "metadata": {
  "kernelspec": {
   "display_name": "Python 3 (ipykernel)",
   "language": "python",
   "name": "python3"
  },
  "language_info": {
   "codemirror_mode": {
    "name": "ipython",
    "version": 3
   },
   "file_extension": ".py",
   "mimetype": "text/x-python",
   "name": "python",
   "nbconvert_exporter": "python",
   "pygments_lexer": "ipython3",
   "version": "3.7.5"
  },
  "vscode": {
   "interpreter": {
    "hash": "31f2aee4e71d21fbe5cf8b01ff0e069b9275f58929596ceb00d14d90e3e16cd6"
   }
  }
 },
 "nbformat": 4,
 "nbformat_minor": 5
}
